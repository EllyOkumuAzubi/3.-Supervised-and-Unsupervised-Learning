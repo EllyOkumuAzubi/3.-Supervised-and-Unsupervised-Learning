{
 "cells": [
  {
   "cell_type": "markdown",
   "id": "4128c2da",
   "metadata": {},
   "source": [
    "# WEEK 10 PEER PROGRAMMING PROJECT \n",
    "# GROUP 1 \n"
   ]
  },
  {
   "cell_type": "markdown",
   "id": "cae1d8e3",
   "metadata": {},
   "source": [
    "![title](img/Regression Analysis.jpg)"
   ]
  },
  {
   "cell_type": "markdown",
   "id": "f63a33bc",
   "metadata": {},
   "source": []
  },
  {
   "cell_type": "markdown",
   "id": "f4b93d35",
   "metadata": {},
   "source": [
    "# Prepare a report that :\n",
    "\n",
    "**GROUP 1 ASSIGNMENT SUPERVISED LEARNING**:\n",
    "\n",
    " *1. Explain the Machine Learning type with Examples*\n",
    " \n",
    " *2. Explain at least 3 types of ML algorithms within the category*\n",
    " \n",
    " *3. Outline a Company/Product that implements the machine learning type*"
   ]
  },
  {
   "cell_type": "markdown",
   "id": "baa18450",
   "metadata": {},
   "source": [
    "# UNDERSTAND ML , DEFINE SUPERVISED ML "
   ]
  },
  {
   "cell_type": "markdown",
   "id": "4aecba03",
   "metadata": {},
   "source": [
    "#### Machine learning: \n",
    " 1. The ability of a machine to learn on it's own \n",
    " \n",
    " 2. The ability of a machine / model/ program to learn and adapt without being explicitly programmed, using algorithms to give       enhanced results \n",
    " \n",
    " 3. A system that allows a user to feed huge amounts of Data to a system, have the computer **analyze, and make predictions         based on the input data**  \n",
    " "
   ]
  },
  {
   "cell_type": "markdown",
   "id": "eed04fb3",
   "metadata": {},
   "source": [
    "<img src='Machine learning.png' style ='width:200px;height:250px'>"
   ]
  },
  {
   "cell_type": "markdown",
   "id": "d6e2434a",
   "metadata": {},
   "source": [
    "## SUPERVISED MACHINE LEARNING \n",
    "**The Data fed into the machine for learning, includes the desired output, I.e the desired output**\n",
    "\n",
    "During 'LEARNING' the correct results are known , called **Labeled Data** , the machine will now be able to predict based on the input **labeled**  data fed into the system** \n",
    "\n",
    "**This is the process of providing input Data as well as the correct output Data to the machine learning process**\n"
   ]
  },
  {
   "cell_type": "markdown",
   "id": "571302e2",
   "metadata": {},
   "source": [
    "<img src='2,.jpeg' style ='width:700px;height:250px'>"
   ]
  },
  {
   "cell_type": "markdown",
   "id": "1f0db518",
   "metadata": {},
   "source": [
    "# CRUDE EXAMPLES \n",
    "1. IT IS SIMILAR TO A STUDENT LEARNING IN SUPERVISION OF A TEACHER\n",
    "\n",
    "\n",
    "2. A PARENT TEACHING A CHILD TO DISTINGUISH BETWEEM COLOUR RED AND BLUE "
   ]
  },
  {
   "cell_type": "markdown",
   "id": "df351645",
   "metadata": {},
   "source": [
    "## THERE ARE 2 BROAD TYPES OF SUPERVISED LEARNING "
   ]
  },
  {
   "cell_type": "markdown",
   "id": "37154c8a",
   "metadata": {},
   "source": [
    "1. **REGRESSION** :\n",
    "\n",
    "Used when the output is a definite real value \n",
    "\n",
    "Continuous variables (We'll understand this when we get to algorithm types)\n",
    ".\n",
    ".\n",
    ".Eg Blue/Green \n",
    "\n",
    ".   Dog / Cat\n",
    "\n",
    "\n",
    "-\n",
    "2. **CLASSIFICATION**:\n",
    "\n",
    "Used when the output is a category or is can be classified\n",
    "\n",
    "The **output required can be a category** , I.e You'd want to know whether an email is scam or not as oppossed to having the contents as the output \n",
    ".\n",
    ".Eg Fraud/No Fraud \n",
    "\n",
    ".    Scam/ No Scam\n",
    "\n",
    ".    Phishing Site/Not Phishing Site\n",
    "\n",
    "<img src='Classification_vs_Regression_in_Machine_Learning_New.webp' style ='width:700px;height:250px'>"
   ]
  },
  {
   "cell_type": "markdown",
   "id": "b9403d76",
   "metadata": {},
   "source": [
    "####  REGRESSION VS CLASSIFICATION  EXAMPLES \n",
    "<img src='R.png' style ='width:700px;height:350px'>"
   ]
  },
  {
   "cell_type": "markdown",
   "id": "19778a82",
   "metadata": {},
   "source": [
    "##### EXAMPLE 2\n",
    "<img src='R2.png' style ='width:800px;height:450px'>"
   ]
  },
  {
   "cell_type": "markdown",
   "id": "5e8c5ea5",
   "metadata": {},
   "source": [
    "** IN SUMMATION** \n",
    "## REGRESSION - Gives a more definite , descriptive output, \n",
    "\n",
    "## CLASSIFICATION - Classifies the output"
   ]
  },
  {
   "cell_type": "markdown",
   "id": "f547eee7",
   "metadata": {},
   "source": [
    "## EXPLAIN TYPES WITH EXAMPLES \n",
    "\n",
    "**Bank Fraud Detection -** *Classification* \n",
    "\n",
    "**Image Classification -** *Regression* \n",
    "\n",
    "**Spam Filtering -** *Classification*\n",
    "\n",
    "**Risk Assesment -** *Regression* "
   ]
  },
  {
   "cell_type": "markdown",
   "id": "b93998fa",
   "metadata": {},
   "source": []
  },
  {
   "cell_type": "markdown",
   "id": "541c8bb0",
   "metadata": {},
   "source": [
    "# "
   ]
  },
  {
   "cell_type": "markdown",
   "id": "e6fe05d2",
   "metadata": {},
   "source": [
    "# "
   ]
  },
  {
   "cell_type": "markdown",
   "id": "3754ece9",
   "metadata": {},
   "source": [
    "# EXPLORE AT LEAST 3 TYPES OF ALGORITHMS IN THIS CATEGORY "
   ]
  },
  {
   "cell_type": "markdown",
   "id": "80b9cef4",
   "metadata": {},
   "source": [
    "# PART 3\n",
    "## EXPLORE THE TYPRS OF ALGORITHMS WITHIN THIS CATEGORY"
   ]
  },
  {
   "cell_type": "markdown",
   "id": "089d34d4",
   "metadata": {},
   "source": [
    "**ALGORITHM MEANING** \n",
    "A set of rules, functions to obtain the expected output from a given input\n",
    "\n",
    "<img src='ALGORITHM.jpg' style ='width:700px;height:250px'>\n",
    "\n",
    "**Because we had 2 types of supervised learning, we'll also have 2 types of algorithms**\n",
    "\n",
    "1. REGRESSION ALGORITHMS \n",
    "\n",
    "\n",
    ".\n",
    "\n",
    "2. CLASSIFICATION ALGORITHMS "
   ]
  },
  {
   "cell_type": "markdown",
   "id": "a970c9c2",
   "metadata": {},
   "source": [
    "# SUPERVISED LEARNING ALGORITHMS \n",
    "\n",
    "THERE ARE 2 TYPES \n",
    "\n",
    "### REGRESSION ALGORITHMS \n",
    "\n",
    "**DEF; There is a relationship btwn input variable and the output variable** \n",
    "\n",
    "Examples we'll tackle here \n",
    "\n",
    "a) Simple linear Regression \n",
    "\n",
    "b) Multiple Linear Regressions \n",
    "\n",
    "### CLASSIFICATION ALGORITHMS \n",
    "\n",
    "**DEF; The output variable is categorical in nature**\n",
    "\n",
    "Examples we'll tackle here \n",
    "\n",
    "a) Decision Trees \n",
    "\n",
    "b) Random Forset\n",
    "\n"
   ]
  },
  {
   "cell_type": "markdown",
   "id": "95955fcb",
   "metadata": {},
   "source": [
    "### SIMPLE LINEAR REGRESSION \n",
    "\n",
    "**DEF; PERFORMS THE TASK TO PREDICT A DEPENDENT VARIABLE (Y AXIS) BASED ON A GIVEN INDEPENDENT (X AXIS)**\n",
    "\n",
    "<img src='Regression Analysis.jpg' style ='width:700px;height:400px'>"
   ]
  },
  {
   "cell_type": "markdown",
   "id": "e03eb178",
   "metadata": {},
   "source": [
    "**Regression line** Is the line that best describes the relationship between the dependent variable VS the dependent variable . \n",
    "\n",
    "Therefore given , a single variable it can be able to predict the latter "
   ]
  },
  {
   "cell_type": "markdown",
   "id": "1b4f577d",
   "metadata": {},
   "source": [
    "\n",
    "\n",
    "<img src='imagenew.png' style ='width:400px;height:400px'>"
   ]
  },
  {
   "cell_type": "markdown",
   "id": "f7f4027d",
   "metadata": {},
   "source": [
    "# TRAINING THE MODEL \n",
    "\n",
    "Here we have the x input data and the y input data \n",
    "\n",
    "The Y input data acts like the labels to the data, \n",
    "\n",
    "**THE REGRESSION LINE IS DRAWN BETWEEN THE DATA POINTS** \n",
    "\n",
    "## Applications \n",
    "#### ECONOMICS  \n",
    " Predict supply - BY plotting Supply VS Demand, \n",
    " \n",
    " Predict expected Consumption - By relating the consuption dependent variable "
   ]
  },
  {
   "cell_type": "markdown",
   "id": "12c24e64",
   "metadata": {},
   "source": [
    "## CHALLENGES \n",
    "Linear regression has significant limits. It can’t easily match any data set that is non-linear.\n",
    "\n",
    "**It can only be used to make predictions that fit within the range of the training data set. And, most importantly for our purposes**\n",
    "\n",
    "**linear regression can only be fit to data sets with a single dependent variable and a single independent variable.**"
   ]
  },
  {
   "cell_type": "markdown",
   "id": "2912fc2f",
   "metadata": {},
   "source": [
    "# ALGORITHM NUMBER 2 \n",
    "# MULTIPLE LINEAR REGRESSION "
   ]
  },
  {
   "cell_type": "markdown",
   "id": "61d93119",
   "metadata": {},
   "source": [
    "# "
   ]
  },
  {
   "cell_type": "markdown",
   "id": "cd21ef3a",
   "metadata": {},
   "source": [
    "# ALGORITHM NUMBER 2 \n",
    "# MULTIPLE LINEAR REGRESSION LINE "
   ]
  },
  {
   "cell_type": "markdown",
   "id": "e8efa4f3",
   "metadata": {},
   "source": [
    "**DEFINITION**\n",
    "\n",
    "**Multiple regression is an extension of linear regression models that allow predictions of systems with multiple independent variables.**"
   ]
  },
  {
   "cell_type": "markdown",
   "id": "0254368b",
   "metadata": {},
   "source": [
    " ###### It’s specifically designed to create regressions on models with a single dependent variable and multiple independent variables."
   ]
  },
  {
   "cell_type": "markdown",
   "id": "9db2ede9",
   "metadata": {},
   "source": [
    "<img src='hours.svg' style ='width:1000px;height:400px'>"
   ]
  },
  {
   "cell_type": "markdown",
   "id": "859fa864",
   "metadata": {},
   "source": [
    "###  APPLICATIIONS \n",
    "\n",
    "**AGRICULTURAL METHODS**\n",
    "\n",
    "Multiple linear regression allows us to obtain predicted values for specific variables under certain conditions, eg Growth VS sunlight, Moisture, Maturity "
   ]
  },
  {
   "cell_type": "code",
   "execution_count": null,
   "id": "e94dab38",
   "metadata": {},
   "outputs": [],
   "source": []
  }
 ],
 "metadata": {
  "kernelspec": {
   "display_name": "Python 3 (ipykernel)",
   "language": "python",
   "name": "python3"
  },
  "language_info": {
   "codemirror_mode": {
    "name": "ipython",
    "version": 3
   },
   "file_extension": ".py",
   "mimetype": "text/x-python",
   "name": "python",
   "nbconvert_exporter": "python",
   "pygments_lexer": "ipython3",
   "version": "3.10.7"
  }
 },
 "nbformat": 4,
 "nbformat_minor": 5
}
